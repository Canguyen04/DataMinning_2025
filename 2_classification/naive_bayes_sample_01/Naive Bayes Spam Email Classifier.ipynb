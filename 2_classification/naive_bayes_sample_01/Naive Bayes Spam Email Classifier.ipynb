{
 "cells": [
  {
   "cell_type": "code",
   "execution_count": 1,
   "id": "controlled-necessity",
   "metadata": {
    "ExecuteTime": {
     "end_time": "2025-04-03T11:19:27.506355500Z",
     "start_time": "2025-04-03T11:19:27.495561400Z"
    }
   },
   "outputs": [],
   "source": [
    "import pandas as pd\n",
    "import numpy as np\n",
    "import seaborn as sns\n",
    "import matplotlib.pyplot as plt"
   ]
  },
  {
   "cell_type": "code",
   "execution_count": 2,
   "id": "external-majority",
   "metadata": {
    "ExecuteTime": {
     "end_time": "2025-04-03T11:21:10.852657Z",
     "start_time": "2025-04-03T11:21:10.766759400Z"
    }
   },
   "outputs": [],
   "source": [
    "spam_df=pd.read_csv('emails.csv')"
   ]
  },
  {
   "cell_type": "code",
   "execution_count": 3,
   "id": "guided-engagement",
   "metadata": {
    "ExecuteTime": {
     "end_time": "2025-04-03T11:21:13.845777100Z",
     "start_time": "2025-04-03T11:21:13.758050300Z"
    }
   },
   "outputs": [
    {
     "data": {
      "text/plain": "                                                   text  spam\n0     Subject: naturally irresistible your corporate...     1\n1     Subject: the stock trading gunslinger  fanny i...     1\n2     Subject: unbelievable new homes made easy  im ...     1\n3     Subject: 4 color printing special  request add...     1\n4     Subject: do not have money , get software cds ...     1\n...                                                 ...   ...\n5723  Subject: re : research and development charges...     0\n5724  Subject: re : receipts from visit  jim ,  than...     0\n5725  Subject: re : enron case study update  wow ! a...     0\n5726  Subject: re : interest  david ,  please , call...     0\n5727  Subject: news : aurora 5 . 2 update  aurora ve...     0\n\n[5728 rows x 2 columns]",
      "text/html": "<div>\n<style scoped>\n    .dataframe tbody tr th:only-of-type {\n        vertical-align: middle;\n    }\n\n    .dataframe tbody tr th {\n        vertical-align: top;\n    }\n\n    .dataframe thead th {\n        text-align: right;\n    }\n</style>\n<table border=\"1\" class=\"dataframe\">\n  <thead>\n    <tr style=\"text-align: right;\">\n      <th></th>\n      <th>text</th>\n      <th>spam</th>\n    </tr>\n  </thead>\n  <tbody>\n    <tr>\n      <th>0</th>\n      <td>Subject: naturally irresistible your corporate...</td>\n      <td>1</td>\n    </tr>\n    <tr>\n      <th>1</th>\n      <td>Subject: the stock trading gunslinger  fanny i...</td>\n      <td>1</td>\n    </tr>\n    <tr>\n      <th>2</th>\n      <td>Subject: unbelievable new homes made easy  im ...</td>\n      <td>1</td>\n    </tr>\n    <tr>\n      <th>3</th>\n      <td>Subject: 4 color printing special  request add...</td>\n      <td>1</td>\n    </tr>\n    <tr>\n      <th>4</th>\n      <td>Subject: do not have money , get software cds ...</td>\n      <td>1</td>\n    </tr>\n    <tr>\n      <th>...</th>\n      <td>...</td>\n      <td>...</td>\n    </tr>\n    <tr>\n      <th>5723</th>\n      <td>Subject: re : research and development charges...</td>\n      <td>0</td>\n    </tr>\n    <tr>\n      <th>5724</th>\n      <td>Subject: re : receipts from visit  jim ,  than...</td>\n      <td>0</td>\n    </tr>\n    <tr>\n      <th>5725</th>\n      <td>Subject: re : enron case study update  wow ! a...</td>\n      <td>0</td>\n    </tr>\n    <tr>\n      <th>5726</th>\n      <td>Subject: re : interest  david ,  please , call...</td>\n      <td>0</td>\n    </tr>\n    <tr>\n      <th>5727</th>\n      <td>Subject: news : aurora 5 . 2 update  aurora ve...</td>\n      <td>0</td>\n    </tr>\n  </tbody>\n</table>\n<p>5728 rows × 2 columns</p>\n</div>"
     },
     "execution_count": 3,
     "metadata": {},
     "output_type": "execute_result"
    }
   ],
   "source": [
    "spam_df"
   ]
  },
  {
   "cell_type": "code",
   "execution_count": 4,
   "id": "noted-master",
   "metadata": {
    "ExecuteTime": {
     "end_time": "2025-04-03T11:21:24.010233400Z",
     "start_time": "2025-04-03T11:21:24.000361600Z"
    }
   },
   "outputs": [
    {
     "data": {
      "text/plain": "                                                text  spam\n0  Subject: naturally irresistible your corporate...     1\n1  Subject: the stock trading gunslinger  fanny i...     1\n2  Subject: unbelievable new homes made easy  im ...     1\n3  Subject: 4 color printing special  request add...     1\n4  Subject: do not have money , get software cds ...     1\n5  Subject: great nnews  hello , welcome to medzo...     1\n6  Subject: here ' s a hot play in motion  homela...     1\n7  Subject: save your money buy getting this thin...     1\n8  Subject: undeliverable : home based business f...     1\n9  Subject: save your money buy getting this thin...     1",
      "text/html": "<div>\n<style scoped>\n    .dataframe tbody tr th:only-of-type {\n        vertical-align: middle;\n    }\n\n    .dataframe tbody tr th {\n        vertical-align: top;\n    }\n\n    .dataframe thead th {\n        text-align: right;\n    }\n</style>\n<table border=\"1\" class=\"dataframe\">\n  <thead>\n    <tr style=\"text-align: right;\">\n      <th></th>\n      <th>text</th>\n      <th>spam</th>\n    </tr>\n  </thead>\n  <tbody>\n    <tr>\n      <th>0</th>\n      <td>Subject: naturally irresistible your corporate...</td>\n      <td>1</td>\n    </tr>\n    <tr>\n      <th>1</th>\n      <td>Subject: the stock trading gunslinger  fanny i...</td>\n      <td>1</td>\n    </tr>\n    <tr>\n      <th>2</th>\n      <td>Subject: unbelievable new homes made easy  im ...</td>\n      <td>1</td>\n    </tr>\n    <tr>\n      <th>3</th>\n      <td>Subject: 4 color printing special  request add...</td>\n      <td>1</td>\n    </tr>\n    <tr>\n      <th>4</th>\n      <td>Subject: do not have money , get software cds ...</td>\n      <td>1</td>\n    </tr>\n    <tr>\n      <th>5</th>\n      <td>Subject: great nnews  hello , welcome to medzo...</td>\n      <td>1</td>\n    </tr>\n    <tr>\n      <th>6</th>\n      <td>Subject: here ' s a hot play in motion  homela...</td>\n      <td>1</td>\n    </tr>\n    <tr>\n      <th>7</th>\n      <td>Subject: save your money buy getting this thin...</td>\n      <td>1</td>\n    </tr>\n    <tr>\n      <th>8</th>\n      <td>Subject: undeliverable : home based business f...</td>\n      <td>1</td>\n    </tr>\n    <tr>\n      <th>9</th>\n      <td>Subject: save your money buy getting this thin...</td>\n      <td>1</td>\n    </tr>\n  </tbody>\n</table>\n</div>"
     },
     "execution_count": 4,
     "metadata": {},
     "output_type": "execute_result"
    }
   ],
   "source": [
    "spam_df.head(10)"
   ]
  },
  {
   "cell_type": "code",
   "execution_count": 5,
   "id": "southwest-billion",
   "metadata": {
    "ExecuteTime": {
     "end_time": "2025-04-03T11:21:30.084415400Z",
     "start_time": "2025-04-03T11:21:30.072751700Z"
    }
   },
   "outputs": [
    {
     "data": {
      "text/plain": "                                                   text  spam\n5718  Subject: altos na gas model  kim , i know you ...     0\n5719  Subject: power market research  i came across ...     0\n5720  Subject: re : visit to houston  fyi  - - - - -...     0\n5721  Subject: ees risk management presentations for...     0\n5722  Subject: re : vacation  vince :  i just found ...     0\n5723  Subject: re : research and development charges...     0\n5724  Subject: re : receipts from visit  jim ,  than...     0\n5725  Subject: re : enron case study update  wow ! a...     0\n5726  Subject: re : interest  david ,  please , call...     0\n5727  Subject: news : aurora 5 . 2 update  aurora ve...     0",
      "text/html": "<div>\n<style scoped>\n    .dataframe tbody tr th:only-of-type {\n        vertical-align: middle;\n    }\n\n    .dataframe tbody tr th {\n        vertical-align: top;\n    }\n\n    .dataframe thead th {\n        text-align: right;\n    }\n</style>\n<table border=\"1\" class=\"dataframe\">\n  <thead>\n    <tr style=\"text-align: right;\">\n      <th></th>\n      <th>text</th>\n      <th>spam</th>\n    </tr>\n  </thead>\n  <tbody>\n    <tr>\n      <th>5718</th>\n      <td>Subject: altos na gas model  kim , i know you ...</td>\n      <td>0</td>\n    </tr>\n    <tr>\n      <th>5719</th>\n      <td>Subject: power market research  i came across ...</td>\n      <td>0</td>\n    </tr>\n    <tr>\n      <th>5720</th>\n      <td>Subject: re : visit to houston  fyi  - - - - -...</td>\n      <td>0</td>\n    </tr>\n    <tr>\n      <th>5721</th>\n      <td>Subject: ees risk management presentations for...</td>\n      <td>0</td>\n    </tr>\n    <tr>\n      <th>5722</th>\n      <td>Subject: re : vacation  vince :  i just found ...</td>\n      <td>0</td>\n    </tr>\n    <tr>\n      <th>5723</th>\n      <td>Subject: re : research and development charges...</td>\n      <td>0</td>\n    </tr>\n    <tr>\n      <th>5724</th>\n      <td>Subject: re : receipts from visit  jim ,  than...</td>\n      <td>0</td>\n    </tr>\n    <tr>\n      <th>5725</th>\n      <td>Subject: re : enron case study update  wow ! a...</td>\n      <td>0</td>\n    </tr>\n    <tr>\n      <th>5726</th>\n      <td>Subject: re : interest  david ,  please , call...</td>\n      <td>0</td>\n    </tr>\n    <tr>\n      <th>5727</th>\n      <td>Subject: news : aurora 5 . 2 update  aurora ve...</td>\n      <td>0</td>\n    </tr>\n  </tbody>\n</table>\n</div>"
     },
     "execution_count": 5,
     "metadata": {},
     "output_type": "execute_result"
    }
   ],
   "source": [
    "spam_df.tail(10)"
   ]
  },
  {
   "cell_type": "code",
   "execution_count": 6,
   "id": "numerical-punishment",
   "metadata": {
    "ExecuteTime": {
     "end_time": "2025-04-03T11:21:52.887473600Z",
     "start_time": "2025-04-03T11:21:52.875369Z"
    }
   },
   "outputs": [
    {
     "data": {
      "text/plain": "              spam\ncount  5728.000000\nmean      0.238827\nstd       0.426404\nmin       0.000000\n25%       0.000000\n50%       0.000000\n75%       0.000000\nmax       1.000000",
      "text/html": "<div>\n<style scoped>\n    .dataframe tbody tr th:only-of-type {\n        vertical-align: middle;\n    }\n\n    .dataframe tbody tr th {\n        vertical-align: top;\n    }\n\n    .dataframe thead th {\n        text-align: right;\n    }\n</style>\n<table border=\"1\" class=\"dataframe\">\n  <thead>\n    <tr style=\"text-align: right;\">\n      <th></th>\n      <th>spam</th>\n    </tr>\n  </thead>\n  <tbody>\n    <tr>\n      <th>count</th>\n      <td>5728.000000</td>\n    </tr>\n    <tr>\n      <th>mean</th>\n      <td>0.238827</td>\n    </tr>\n    <tr>\n      <th>std</th>\n      <td>0.426404</td>\n    </tr>\n    <tr>\n      <th>min</th>\n      <td>0.000000</td>\n    </tr>\n    <tr>\n      <th>25%</th>\n      <td>0.000000</td>\n    </tr>\n    <tr>\n      <th>50%</th>\n      <td>0.000000</td>\n    </tr>\n    <tr>\n      <th>75%</th>\n      <td>0.000000</td>\n    </tr>\n    <tr>\n      <th>max</th>\n      <td>1.000000</td>\n    </tr>\n  </tbody>\n</table>\n</div>"
     },
     "execution_count": 6,
     "metadata": {},
     "output_type": "execute_result"
    }
   ],
   "source": [
    "spam_df.describe()"
   ]
  },
  {
   "cell_type": "code",
   "execution_count": 7,
   "id": "silver-maria",
   "metadata": {
    "ExecuteTime": {
     "end_time": "2025-04-03T11:21:58.827733500Z",
     "start_time": "2025-04-03T11:21:58.817976Z"
    }
   },
   "outputs": [
    {
     "name": "stdout",
     "output_type": "stream",
     "text": [
      "<class 'pandas.core.frame.DataFrame'>\n",
      "RangeIndex: 5728 entries, 0 to 5727\n",
      "Data columns (total 2 columns):\n",
      " #   Column  Non-Null Count  Dtype \n",
      "---  ------  --------------  ----- \n",
      " 0   text    5728 non-null   object\n",
      " 1   spam    5728 non-null   int64 \n",
      "dtypes: int64(1), object(1)\n",
      "memory usage: 89.6+ KB\n"
     ]
    }
   ],
   "source": [
    "spam_df.info()"
   ]
  },
  {
   "cell_type": "markdown",
   "id": "gothic-federation",
   "metadata": {},
   "source": [
    "## Visualize the Data\n"
   ]
  },
  {
   "cell_type": "code",
   "execution_count": 8,
   "id": "mathematical-arrest",
   "metadata": {
    "ExecuteTime": {
     "end_time": "2025-04-03T11:22:07.960616200Z",
     "start_time": "2025-04-03T11:22:07.953592700Z"
    }
   },
   "outputs": [],
   "source": [
    "ham=spam_df[spam_df['spam']==0]"
   ]
  },
  {
   "cell_type": "code",
   "execution_count": 9,
   "id": "complicated-tuner",
   "metadata": {
    "ExecuteTime": {
     "end_time": "2025-04-03T11:22:10.193072800Z",
     "start_time": "2025-04-03T11:22:10.182314100Z"
    }
   },
   "outputs": [],
   "source": [
    "spam=spam_df[spam_df['spam']==1]"
   ]
  },
  {
   "cell_type": "code",
   "execution_count": 10,
   "id": "architectural-appendix",
   "metadata": {
    "ExecuteTime": {
     "end_time": "2025-04-03T11:22:13.661524Z",
     "start_time": "2025-04-03T11:22:13.610314100Z"
    }
   },
   "outputs": [
    {
     "data": {
      "text/plain": "                                                   text  spam\n1368  Subject: hello guys ,  i ' m \" bugging you \" f...     0\n1369  Subject: sacramento weather station  fyi  - - ...     0\n1370  Subject: from the enron india newsdesk - jan 1...     0\n1371  Subject: re : powerisk 2001 - your invitation ...     0\n1372  Subject: re : resco database and customer capt...     0\n...                                                 ...   ...\n5723  Subject: re : research and development charges...     0\n5724  Subject: re : receipts from visit  jim ,  than...     0\n5725  Subject: re : enron case study update  wow ! a...     0\n5726  Subject: re : interest  david ,  please , call...     0\n5727  Subject: news : aurora 5 . 2 update  aurora ve...     0\n\n[4360 rows x 2 columns]",
      "text/html": "<div>\n<style scoped>\n    .dataframe tbody tr th:only-of-type {\n        vertical-align: middle;\n    }\n\n    .dataframe tbody tr th {\n        vertical-align: top;\n    }\n\n    .dataframe thead th {\n        text-align: right;\n    }\n</style>\n<table border=\"1\" class=\"dataframe\">\n  <thead>\n    <tr style=\"text-align: right;\">\n      <th></th>\n      <th>text</th>\n      <th>spam</th>\n    </tr>\n  </thead>\n  <tbody>\n    <tr>\n      <th>1368</th>\n      <td>Subject: hello guys ,  i ' m \" bugging you \" f...</td>\n      <td>0</td>\n    </tr>\n    <tr>\n      <th>1369</th>\n      <td>Subject: sacramento weather station  fyi  - - ...</td>\n      <td>0</td>\n    </tr>\n    <tr>\n      <th>1370</th>\n      <td>Subject: from the enron india newsdesk - jan 1...</td>\n      <td>0</td>\n    </tr>\n    <tr>\n      <th>1371</th>\n      <td>Subject: re : powerisk 2001 - your invitation ...</td>\n      <td>0</td>\n    </tr>\n    <tr>\n      <th>1372</th>\n      <td>Subject: re : resco database and customer capt...</td>\n      <td>0</td>\n    </tr>\n    <tr>\n      <th>...</th>\n      <td>...</td>\n      <td>...</td>\n    </tr>\n    <tr>\n      <th>5723</th>\n      <td>Subject: re : research and development charges...</td>\n      <td>0</td>\n    </tr>\n    <tr>\n      <th>5724</th>\n      <td>Subject: re : receipts from visit  jim ,  than...</td>\n      <td>0</td>\n    </tr>\n    <tr>\n      <th>5725</th>\n      <td>Subject: re : enron case study update  wow ! a...</td>\n      <td>0</td>\n    </tr>\n    <tr>\n      <th>5726</th>\n      <td>Subject: re : interest  david ,  please , call...</td>\n      <td>0</td>\n    </tr>\n    <tr>\n      <th>5727</th>\n      <td>Subject: news : aurora 5 . 2 update  aurora ve...</td>\n      <td>0</td>\n    </tr>\n  </tbody>\n</table>\n<p>4360 rows × 2 columns</p>\n</div>"
     },
     "execution_count": 10,
     "metadata": {},
     "output_type": "execute_result"
    }
   ],
   "source": [
    "ham"
   ]
  },
  {
   "cell_type": "code",
   "execution_count": 11,
   "id": "forced-binding",
   "metadata": {
    "ExecuteTime": {
     "end_time": "2025-04-03T11:22:16.277940700Z",
     "start_time": "2025-04-03T11:22:16.261484600Z"
    }
   },
   "outputs": [
    {
     "data": {
      "text/plain": "                                                   text  spam\n0     Subject: naturally irresistible your corporate...     1\n1     Subject: the stock trading gunslinger  fanny i...     1\n2     Subject: unbelievable new homes made easy  im ...     1\n3     Subject: 4 color printing special  request add...     1\n4     Subject: do not have money , get software cds ...     1\n...                                                 ...   ...\n1363  Subject: are you ready to get it ?  hello !  v...     1\n1364  Subject: would you like a $ 250 gas card ?  do...     1\n1365  Subject: immediate reply needed  dear sir ,  i...     1\n1366  Subject: wanna see me get fisted ?  fist  bang...     1\n1367  Subject: hot stock info : drgv announces anoth...     1\n\n[1368 rows x 2 columns]",
      "text/html": "<div>\n<style scoped>\n    .dataframe tbody tr th:only-of-type {\n        vertical-align: middle;\n    }\n\n    .dataframe tbody tr th {\n        vertical-align: top;\n    }\n\n    .dataframe thead th {\n        text-align: right;\n    }\n</style>\n<table border=\"1\" class=\"dataframe\">\n  <thead>\n    <tr style=\"text-align: right;\">\n      <th></th>\n      <th>text</th>\n      <th>spam</th>\n    </tr>\n  </thead>\n  <tbody>\n    <tr>\n      <th>0</th>\n      <td>Subject: naturally irresistible your corporate...</td>\n      <td>1</td>\n    </tr>\n    <tr>\n      <th>1</th>\n      <td>Subject: the stock trading gunslinger  fanny i...</td>\n      <td>1</td>\n    </tr>\n    <tr>\n      <th>2</th>\n      <td>Subject: unbelievable new homes made easy  im ...</td>\n      <td>1</td>\n    </tr>\n    <tr>\n      <th>3</th>\n      <td>Subject: 4 color printing special  request add...</td>\n      <td>1</td>\n    </tr>\n    <tr>\n      <th>4</th>\n      <td>Subject: do not have money , get software cds ...</td>\n      <td>1</td>\n    </tr>\n    <tr>\n      <th>...</th>\n      <td>...</td>\n      <td>...</td>\n    </tr>\n    <tr>\n      <th>1363</th>\n      <td>Subject: are you ready to get it ?  hello !  v...</td>\n      <td>1</td>\n    </tr>\n    <tr>\n      <th>1364</th>\n      <td>Subject: would you like a $ 250 gas card ?  do...</td>\n      <td>1</td>\n    </tr>\n    <tr>\n      <th>1365</th>\n      <td>Subject: immediate reply needed  dear sir ,  i...</td>\n      <td>1</td>\n    </tr>\n    <tr>\n      <th>1366</th>\n      <td>Subject: wanna see me get fisted ?  fist  bang...</td>\n      <td>1</td>\n    </tr>\n    <tr>\n      <th>1367</th>\n      <td>Subject: hot stock info : drgv announces anoth...</td>\n      <td>1</td>\n    </tr>\n  </tbody>\n</table>\n<p>1368 rows × 2 columns</p>\n</div>"
     },
     "execution_count": 11,
     "metadata": {},
     "output_type": "execute_result"
    }
   ],
   "source": [
    "spam"
   ]
  },
  {
   "cell_type": "code",
   "execution_count": 12,
   "id": "shared-difference",
   "metadata": {
    "ExecuteTime": {
     "end_time": "2025-04-03T11:22:26.763483900Z",
     "start_time": "2025-04-03T11:22:26.753378700Z"
    }
   },
   "outputs": [
    {
     "name": "stdout",
     "output_type": "stream",
     "text": [
      "Spam Percentage = 23.88268156424581 %\n"
     ]
    }
   ],
   "source": [
    "print('Spam Percentage =',(len(spam)/len(spam_df))*100,'%')"
   ]
  },
  {
   "cell_type": "code",
   "execution_count": 14,
   "id": "collective-popularity",
   "metadata": {
    "ExecuteTime": {
     "end_time": "2025-04-03T11:22:40.420410Z",
     "start_time": "2025-04-03T11:22:40.382649400Z"
    }
   },
   "outputs": [
    {
     "name": "stdout",
     "output_type": "stream",
     "text": [
      "Ham Percentage = 76.11731843575419 %\n"
     ]
    }
   ],
   "source": [
    "print('Ham Percentage =',(len(ham)/len(spam_df))*100,'%')"
   ]
  },
  {
   "cell_type": "code",
   "execution_count": 17,
   "id": "other-tactics",
   "metadata": {
    "ExecuteTime": {
     "end_time": "2025-04-03T11:23:39.893713200Z",
     "start_time": "2025-04-03T11:23:39.748580300Z"
    }
   },
   "outputs": [
    {
     "data": {
      "text/plain": "<Axes: ylabel='count'>"
     },
     "execution_count": 17,
     "metadata": {},
     "output_type": "execute_result"
    },
    {
     "data": {
      "text/plain": "<Figure size 640x480 with 1 Axes>",
      "image/png": "[encoded data removed]"
     },
     "metadata": {},
     "output_type": "display_data"
    }
   ],
   "source": [
    "sns.countplot(spam_df['spam'],label='Spam vs Ham')"
   ]
  },
  {
   "cell_type": "markdown",
   "id": "peaceful-earth",
   "metadata": {},
   "source": [
    "## Applying CountVectorizer to our Spam Ham Example"
   ]
  },
  {
   "cell_type": "code",
   "execution_count": 18,
   "id": "interested-honor",
   "metadata": {
    "ExecuteTime": {
     "end_time": "2025-04-03T11:27:58.592617500Z",
     "start_time": "2025-04-03T11:27:57.198733400Z"
    }
   },
   "outputs": [],
   "source": [
    "from sklearn.feature_extraction.text import CountVectorizer\n",
    "vectorizer=CountVectorizer()\n",
    "spamham_countVectorizer=vectorizer.fit_transform(spam_df['text'])"
   ]
  },
  {
   "cell_type": "code",
   "execution_count": 25,
   "id": "conscious-obligation",
   "metadata": {
    "ExecuteTime": {
     "end_time": "2025-04-03T11:37:04.089813200Z",
     "start_time": "2025-04-03T11:37:04.057309100Z"
    }
   },
   "outputs": [
    {
     "data": {
      "text/plain": "array(['00', '000', '0000', ..., 'zzn', 'zzncacst', 'zzzz'], dtype=object)"
     },
     "execution_count": 25,
     "metadata": {},
     "output_type": "execute_result"
    }
   ],
   "source": [
    "# print(vectorizer.get_feature_names()) -- PH\n",
    "vectorizer.get_feature_names_out()"
   ]
  },
  {
   "cell_type": "code",
   "execution_count": 26,
   "id": "rolled-going",
   "metadata": {
    "ExecuteTime": {
     "end_time": "2025-04-03T11:37:54.606386100Z",
     "start_time": "2025-04-03T11:37:54.591031900Z"
    }
   },
   "outputs": [
    {
     "data": {
      "text/plain": "(5728, 37303)"
     },
     "execution_count": 26,
     "metadata": {},
     "output_type": "execute_result"
    }
   ],
   "source": [
    "spamham_countVectorizer.shape"
   ]
  },
  {
   "cell_type": "markdown",
   "id": "destroyed-playing",
   "metadata": {},
   "source": [
    "## Dividing the Cell for Training and Testing Prior to Training"
   ]
  },
  {
   "cell_type": "code",
   "execution_count": 27,
   "id": "angry-marker",
   "metadata": {
    "scrolled": true,
    "ExecuteTime": {
     "end_time": "2025-04-03T11:38:37.648615600Z",
     "start_time": "2025-04-03T11:38:37.641966400Z"
    }
   },
   "outputs": [],
   "source": [
    "label=spam_df['spam']\n",
    "X=spamham_countVectorizer\n",
    "y=label"
   ]
  },
  {
   "cell_type": "code",
   "execution_count": 28,
   "id": "honey-lewis",
   "metadata": {
    "ExecuteTime": {
     "end_time": "2025-04-03T11:58:24.118019400Z",
     "start_time": "2025-04-03T11:58:24.102199300Z"
    }
   },
   "outputs": [
    {
     "data": {
      "text/plain": "(5728, 37303)"
     },
     "execution_count": 28,
     "metadata": {},
     "output_type": "execute_result"
    }
   ],
   "source": [
    "X.shape"
   ]
  },
  {
   "cell_type": "code",
   "execution_count": 29,
   "id": "spanish-lexington",
   "metadata": {
    "ExecuteTime": {
     "end_time": "2025-04-03T11:58:28.001107400Z",
     "start_time": "2025-04-03T11:58:27.983427100Z"
    }
   },
   "outputs": [
    {
     "data": {
      "text/plain": "(5728,)"
     },
     "execution_count": 29,
     "metadata": {},
     "output_type": "execute_result"
    }
   ],
   "source": [
    "y.shape"
   ]
  },
  {
   "cell_type": "code",
   "execution_count": 30,
   "id": "numerous-glossary",
   "metadata": {
    "ExecuteTime": {
     "end_time": "2025-04-03T11:58:32.866538100Z",
     "start_time": "2025-04-03T11:58:32.757234600Z"
    }
   },
   "outputs": [],
   "source": [
    "from sklearn.model_selection import train_test_split\n",
    "X_train,X_test,y_train,y_test=train_test_split(X,y,test_size=0.2)"
   ]
  },
  {
   "cell_type": "code",
   "execution_count": 31,
   "id": "opposed-water",
   "metadata": {
    "ExecuteTime": {
     "end_time": "2025-04-03T11:58:43.175846300Z",
     "start_time": "2025-04-03T11:58:43.161548200Z"
    }
   },
   "outputs": [],
   "source": [
    "from sklearn.naive_bayes import MultinomialNB"
   ]
  },
  {
   "cell_type": "code",
   "execution_count": 32,
   "id": "accomplished-terminology",
   "metadata": {
    "ExecuteTime": {
     "end_time": "2025-04-03T11:58:56.710132Z",
     "start_time": "2025-04-03T11:58:56.688976200Z"
    }
   },
   "outputs": [
    {
     "data": {
      "text/plain": "MultinomialNB()",
      "text/html": "<style>#sk-container-id-1 {\n  /* Definition of color scheme common for light and dark mode */\n  --sklearn-color-text: black;\n  --sklearn-color-line: gray;\n  /* Definition of color scheme for unfitted estimators */\n  --sklearn-color-unfitted-level-0: #fff5e6;\n  --sklearn-color-unfitted-level-1: #f6e4d2;\n  --sklearn-color-unfitted-level-2: #ffe0b3;\n  --sklearn-color-unfitted-level-3: chocolate;\n  /* Definition of color scheme for fitted estimators */\n  --sklearn-color-fitted-level-0: #f0f8ff;\n  --sklearn-color-fitted-level-1: #d4ebff;\n  --sklearn-color-fitted-level-2: #b3dbfd;\n  --sklearn-color-fitted-level-3: cornflowerblue;\n\n  /* Specific color for light theme */\n  --sklearn-color-text-on-default-background: var(--sg-text-color, var(--theme-code-foreground, var(--jp-content-font-color1, black)));\n  --sklearn-color-background: var(--sg-background-color, var(--theme-background, var(--jp-layout-color0, white)));\n  --sklearn-color-border-box: var(--sg-text-color, var(--theme-code-foreground, var(--jp-content-font-color1, black)));\n  --sklearn-color-icon: #696969;\n\n  @media (prefers-color-scheme: dark) {\n    /* Redefinition of color scheme for dark theme */\n    --sklearn-color-text-on-default-background: var(--sg-text-color, var(--theme-code-foreground, var(--jp-content-font-color1, white)));\n    --sklearn-color-background: var(--sg-background-color, var(--theme-background, var(--jp-layout-color0, #111)));\n    --sklearn-color-border-box: var(--sg-text-color, var(--theme-code-foreground, var(--jp-content-font-color1, white)));\n    --sklearn-color-icon: #878787;\n  }\n}\n\n#sk-container-id-1 {\n  color: var(--sklearn-color-text);\n}\n\n#sk-container-id-1 pre {\n  padding: 0;\n}\n\n#sk-container-id-1 input.sk-hidden--visually {\n  border: 0;\n  clip: rect(1px 1px 1px 1px);\n  clip: rect(1px, 1px, 1px, 1px);\n  height: 1px;\n  margin: -1px;\n  overflow: hidden;\n  padding: 0;\n  position: absolute;\n  width: 1px;\n}\n\n#sk-container-id-1 div.sk-dashed-wrapped {\n  border: 1px dashed var(--sklearn-color-line);\n  margin: 0 0.4em 0.5em 0.4em;\n  box-sizing: border-box;\n  padding-bottom: 0.4em;\n  background-color: var(--sklearn-color-background);\n}\n\n#sk-container-id-1 div.sk-container {\n  /* jupyter's `normalize.less` sets `[hidden] { display: none; }`\n     but bootstrap.min.css set `[hidden] { display: none !important; }`\n     so we also need the `!important` here to be able to override the\n     default hidden behavior on the sphinx rendered scikit-learn.org.\n     See: https://github.com/scikit-learn/scikit-learn/issues/21755 */\n  display: inline-block !important;\n  position: relative;\n}\n\n#sk-container-id-1 div.sk-text-repr-fallback {\n  display: none;\n}\n\ndiv.sk-parallel-item,\ndiv.sk-serial,\ndiv.sk-item {\n  /* draw centered vertical line to link estimators */\n  background-image: linear-gradient(var(--sklearn-color-text-on-default-background), var(--sklearn-color-text-on-default-background));\n  background-size: 2px 100%;\n  background-repeat: no-repeat;\n  background-position: center center;\n}\n\n/* Parallel-specific style estimator block */\n\n#sk-container-id-1 div.sk-parallel-item::after {\n  content: \"\";\n  width: 100%;\n  border-bottom: 2px solid var(--sklearn-color-text-on-default-background);\n  flex-grow: 1;\n}\n\n#sk-container-id-1 div.sk-parallel {\n  display: flex;\n  align-items: stretch;\n  justify-content: center;\n  background-color: var(--sklearn-color-background);\n  position: relative;\n}\n\n#sk-container-id-1 div.sk-parallel-item {\n  display: flex;\n  flex-direction: column;\n}\n\n#sk-container-id-1 div.sk-parallel-item:first-child::after {\n  align-self: flex-end;\n  width: 50%;\n}\n\n#sk-container-id-1 div.sk-parallel-item:last-child::after {\n  align-self: flex-start;\n  width: 50%;\n}\n\n#sk-container-id-1 div.sk-parallel-item:only-child::after {\n  width: 0;\n}\n\n/* Serial-specific style estimator block */\n\n#sk-container-id-1 div.sk-serial {\n  display: flex;\n  flex-direction: column;\n  align-items: center;\n  background-color: var(--sklearn-color-background);\n  padding-right: 1em;\n  padding-left: 1em;\n}\n\n\n/* Toggleable style: style used for estimator/Pipeline/ColumnTransformer box that is\nclickable and can be expanded/collapsed.\n- Pipeline and ColumnTransformer use this feature and define the default style\n- Estimators will overwrite some part of the style using the `sk-estimator` class\n*/\n\n/* Pipeline and ColumnTransformer style (default) */\n\n#sk-container-id-1 div.sk-toggleable {\n  /* Default theme specific background. It is overwritten whether we have a\n  specific estimator or a Pipeline/ColumnTransformer */\n  background-color: var(--sklearn-color-background);\n}\n\n/* Toggleable label */\n#sk-container-id-1 label.sk-toggleable__label {\n  cursor: pointer;\n  display: block;\n  width: 100%;\n  margin-bottom: 0;\n  padding: 0.5em;\n  box-sizing: border-box;\n  text-align: center;\n}\n\n#sk-container-id-1 label.sk-toggleable__label-arrow:before {\n  /* Arrow on the left of the label */\n  content: \"▸\";\n  float: left;\n  margin-right: 0.25em;\n  color: var(--sklearn-color-icon);\n}\n\n#sk-container-id-1 label.sk-toggleable__label-arrow:hover:before {\n  color: var(--sklearn-color-text);\n}\n\n/* Toggleable content - dropdown */\n\n#sk-container-id-1 div.sk-toggleable__content {\n  max-height: 0;\n  max-width: 0;\n  overflow: hidden;\n  text-align: left;\n  /* unfitted */\n  background-color: var(--sklearn-color-unfitted-level-0);\n}\n\n#sk-container-id-1 div.sk-toggleable__content.fitted {\n  /* fitted */\n  background-color: var(--sklearn-color-fitted-level-0);\n}\n\n#sk-container-id-1 div.sk-toggleable__content pre {\n  margin: 0.2em;\n  border-radius: 0.25em;\n  color: var(--sklearn-color-text);\n  /* unfitted */\n  background-color: var(--sklearn-color-unfitted-level-0);\n}\n\n#sk-container-id-1 div.sk-toggleable__content.fitted pre {\n  /* unfitted */\n  background-color: var(--sklearn-color-fitted-level-0);\n}\n\n#sk-container-id-1 input.sk-toggleable__control:checked~div.sk-toggleable__content {\n  /* Expand drop-down */\n  max-height: 200px;\n  max-width: 100%;\n  overflow: auto;\n}\n\n#sk-container-id-1 input.sk-toggleable__control:checked~label.sk-toggleable__label-arrow:before {\n  content: \"▾\";\n}\n\n/* Pipeline/ColumnTransformer-specific style */\n\n#sk-container-id-1 div.sk-label input.sk-toggleable__control:checked~label.sk-toggleable__label {\n  color: var(--sklearn-color-text);\n  background-color: var(--sklearn-color-unfitted-level-2);\n}\n\n#sk-container-id-1 div.sk-label.fitted input.sk-toggleable__control:checked~label.sk-toggleable__label {\n  background-color: var(--sklearn-color-fitted-level-2);\n}\n\n/* Estimator-specific style */\n\n/* Colorize estimator box */\n#sk-container-id-1 div.sk-estimator input.sk-toggleable__control:checked~label.sk-toggleable__label {\n  /* unfitted */\n  background-color: var(--sklearn-color-unfitted-level-2);\n}\n\n#sk-container-id-1 div.sk-estimator.fitted input.sk-toggleable__control:checked~label.sk-toggleable__label {\n  /* fitted */\n  background-color: var(--sklearn-color-fitted-level-2);\n}\n\n#sk-container-id-1 div.sk-label label.sk-toggleable__label,\n#sk-container-id-1 div.sk-label label {\n  /* The background is the default theme color */\n  color: var(--sklearn-color-text-on-default-background);\n}\n\n/* On hover, darken the color of the background */\n#sk-container-id-1 div.sk-label:hover label.sk-toggleable__label {\n  color: var(--sklearn-color-text);\n  background-color: var(--sklearn-color-unfitted-level-2);\n}\n\n/* Label box, darken color on hover, fitted */\n#sk-container-id-1 div.sk-label.fitted:hover label.sk-toggleable__label.fitted {\n  color: var(--sklearn-color-text);\n  background-color: var(--sklearn-color-fitted-level-2);\n}\n\n/* Estimator label */\n\n#sk-container-id-1 div.sk-label label {\n  font-family: monospace;\n  font-weight: bold;\n  display: inline-block;\n  line-height: 1.2em;\n}\n\n#sk-container-id-1 div.sk-label-container {\n  text-align: center;\n}\n\n/* Estimator-specific */\n#sk-container-id-1 div.sk-estimator {\n  font-family: monospace;\n  border: 1px dotted var(--sklearn-color-border-box);\n  border-radius: 0.25em;\n  box-sizing: border-box;\n  margin-bottom: 0.5em;\n  /* unfitted */\n  background-color: var(--sklearn-color-unfitted-level-0);\n}\n\n#sk-container-id-1 div.sk-estimator.fitted {\n  /* fitted */\n  background-color: var(--sklearn-color-fitted-level-0);\n}\n\n/* on hover */\n#sk-container-id-1 div.sk-estimator:hover {\n  /* unfitted */\n  background-color: var(--sklearn-color-unfitted-level-2);\n}\n\n#sk-container-id-1 div.sk-estimator.fitted:hover {\n  /* fitted */\n  background-color: var(--sklearn-color-fitted-level-2);\n}\n\n/* Specification for estimator info (e.g. \"i\" and \"?\") */\n\n/* Common style for \"i\" and \"?\" */\n\n.sk-estimator-doc-link,\na:link.sk-estimator-doc-link,\na:visited.sk-estimator-doc-link {\n  float: right;\n  font-size: smaller;\n  line-height: 1em;\n  font-family: monospace;\n  background-color: var(--sklearn-color-background);\n  border-radius: 1em;\n  height: 1em;\n  width: 1em;\n  text-decoration: none !important;\n  margin-left: 1ex;\n  /* unfitted */\n  border: var(--sklearn-color-unfitted-level-1) 1pt solid;\n  color: var(--sklearn-color-unfitted-level-1);\n}\n\n.sk-estimator-doc-link.fitted,\na:link.sk-estimator-doc-link.fitted,\na:visited.sk-estimator-doc-link.fitted {\n  /* fitted */\n  border: var(--sklearn-color-fitted-level-1) 1pt solid;\n  color: var(--sklearn-color-fitted-level-1);\n}\n\n/* On hover */\ndiv.sk-estimator:hover .sk-estimator-doc-link:hover,\n.sk-estimator-doc-link:hover,\ndiv.sk-label-container:hover .sk-estimator-doc-link:hover,\n.sk-estimator-doc-link:hover {\n  /* unfitted */\n  background-color: var(--sklearn-color-unfitted-level-3);\n  color: var(--sklearn-color-background);\n  text-decoration: none;\n}\n\ndiv.sk-estimator.fitted:hover .sk-estimator-doc-link.fitted:hover,\n.sk-estimator-doc-link.fitted:hover,\ndiv.sk-label-container:hover .sk-estimator-doc-link.fitted:hover,\n.sk-estimator-doc-link.fitted:hover {\n  /* fitted */\n  background-color: var(--sklearn-color-fitted-level-3);\n  color: var(--sklearn-color-background);\n  text-decoration: none;\n}\n\n/* Span, style for the box shown on hovering the info icon */\n.sk-estimator-doc-link span {\n  display: none;\n  z-index: 9999;\n  position: relative;\n  font-weight: normal;\n  right: .2ex;\n  padding: .5ex;\n  margin: .5ex;\n  width: min-content;\n  min-width: 20ex;\n  max-width: 50ex;\n  color: var(--sklearn-color-text);\n  box-shadow: 2pt 2pt 4pt #999;\n  /* unfitted */\n  background: var(--sklearn-color-unfitted-level-0);\n  border: .5pt solid var(--sklearn-color-unfitted-level-3);\n}\n\n.sk-estimator-doc-link.fitted span {\n  /* fitted */\n  background: var(--sklearn-color-fitted-level-0);\n  border: var(--sklearn-color-fitted-level-3);\n}\n\n.sk-estimator-doc-link:hover span {\n  display: block;\n}\n\n/* \"?\"-specific style due to the `<a>` HTML tag */\n\n#sk-container-id-1 a.estimator_doc_link {\n  float: right;\n  font-size: 1rem;\n  line-height: 1em;\n  font-family: monospace;\n  background-color: var(--sklearn-color-background);\n  border-radius: 1rem;\n  height: 1rem;\n  width: 1rem;\n  text-decoration: none;\n  /* unfitted */\n  color: var(--sklearn-color-unfitted-level-1);\n  border: var(--sklearn-color-unfitted-level-1) 1pt solid;\n}\n\n#sk-container-id-1 a.estimator_doc_link.fitted {\n  /* fitted */\n  border: var(--sklearn-color-fitted-level-1) 1pt solid;\n  color: var(--sklearn-color-fitted-level-1);\n}\n\n/* On hover */\n#sk-container-id-1 a.estimator_doc_link:hover {\n  /* unfitted */\n  background-color: var(--sklearn-color-unfitted-level-3);\n  color: var(--sklearn-color-background);\n  text-decoration: none;\n}\n\n#sk-container-id-1 a.estimator_doc_link.fitted:hover {\n  /* fitted */\n  background-color: var(--sklearn-color-fitted-level-3);\n}\n</style><div id=\"sk-container-id-1\" class=\"sk-top-container\"><div class=\"sk-text-repr-fallback\"><pre>MultinomialNB()</pre><b>In a Jupyter environment, please rerun this cell to show the HTML representation or trust the notebook. <br />On GitHub, the HTML representation is unable to render, please try loading this page with nbviewer.org.</b></div><div class=\"sk-container\" hidden><div class=\"sk-item\"><div class=\"sk-estimator fitted sk-toggleable\"><input class=\"sk-toggleable__control sk-hidden--visually\" id=\"sk-estimator-id-1\" type=\"checkbox\" checked><label for=\"sk-estimator-id-1\" class=\"sk-toggleable__label fitted sk-toggleable__label-arrow fitted\">&nbsp;&nbsp;MultinomialNB<a class=\"sk-estimator-doc-link fitted\" rel=\"noreferrer\" target=\"_blank\" href=\"https://scikit-learn.org/1.5/modules/generated/sklearn.naive_bayes.MultinomialNB.html\">?<span>Documentation for MultinomialNB</span></a><span class=\"sk-estimator-doc-link fitted\">i<span>Fitted</span></span></label><div class=\"sk-toggleable__content fitted\"><pre>MultinomialNB()</pre></div> </div></div></div></div>"
     },
     "execution_count": 32,
     "metadata": {},
     "output_type": "execute_result"
    }
   ],
   "source": [
    "NB_classifier=MultinomialNB()\n",
    "NB_classifier.fit(X_train,y_train)"
   ]
  },
  {
   "cell_type": "markdown",
   "id": "starting-workplace",
   "metadata": {},
   "source": [
    "## Evaluating The Model "
   ]
  },
  {
   "cell_type": "code",
   "execution_count": 33,
   "id": "oriented-outside",
   "metadata": {
    "ExecuteTime": {
     "end_time": "2025-04-03T11:59:24.067129700Z",
     "start_time": "2025-04-03T11:59:24.059643400Z"
    }
   },
   "outputs": [],
   "source": [
    "from sklearn.metrics import classification_report,confusion_matrix"
   ]
  },
  {
   "cell_type": "code",
   "execution_count": 34,
   "id": "naughty-toner",
   "metadata": {
    "ExecuteTime": {
     "end_time": "2025-04-03T11:59:32.459682700Z",
     "start_time": "2025-04-03T11:59:32.417914Z"
    }
   },
   "outputs": [
    {
     "data": {
      "text/plain": "array([0, 0, 0, ..., 0, 1, 0], dtype=int64)"
     },
     "execution_count": 34,
     "metadata": {},
     "output_type": "execute_result"
    }
   ],
   "source": [
    "y_predict_train=NB_classifier.predict(X_train)\n",
    "y_predict_train"
   ]
  },
  {
   "cell_type": "code",
   "execution_count": 35,
   "id": "anonymous-catch",
   "metadata": {
    "ExecuteTime": {
     "end_time": "2025-04-03T11:59:39.191200500Z",
     "start_time": "2025-04-03T11:59:39.166469700Z"
    }
   },
   "outputs": [],
   "source": [
    "cm=confusion_matrix(y_train,y_predict_train)"
   ]
  },
  {
   "cell_type": "code",
   "execution_count": 36,
   "id": "loose-label",
   "metadata": {
    "ExecuteTime": {
     "end_time": "2025-04-03T11:59:46.598989100Z",
     "start_time": "2025-04-03T11:59:46.402632Z"
    }
   },
   "outputs": [
    {
     "data": {
      "text/plain": "<Axes: >"
     },
     "execution_count": 36,
     "metadata": {},
     "output_type": "execute_result"
    },
    {
     "data": {
      "text/plain": "<Figure size 640x480 with 2 Axes>",
      "image/png": "[encoded data removed]"
     },
     "metadata": {},
     "output_type": "display_data"
    }
   ],
   "source": [
    "sns.heatmap(cm,annot=True)"
   ]
  },
  {
   "cell_type": "code",
   "execution_count": 37,
   "id": "hispanic-duration",
   "metadata": {
    "ExecuteTime": {
     "end_time": "2025-04-03T11:59:53.923552700Z",
     "start_time": "2025-04-03T11:59:53.912369700Z"
    }
   },
   "outputs": [
    {
     "data": {
      "text/plain": "array([0, 0, 0, ..., 0, 1, 0], dtype=int64)"
     },
     "execution_count": 37,
     "metadata": {},
     "output_type": "execute_result"
    }
   ],
   "source": [
    "y_predict_test=NB_classifier.predict(X_test)\n",
    "y_predict_test"
   ]
  },
  {
   "cell_type": "code",
   "execution_count": 38,
   "id": "exclusive-trinity",
   "metadata": {
    "ExecuteTime": {
     "end_time": "2025-04-03T11:59:57.097861200Z",
     "start_time": "2025-04-03T11:59:57.084419900Z"
    }
   },
   "outputs": [],
   "source": [
    "cm=confusion_matrix(y_test,y_predict_test)\n"
   ]
  },
  {
   "cell_type": "code",
   "execution_count": 39,
   "id": "natural-great",
   "metadata": {
    "ExecuteTime": {
     "end_time": "2025-04-03T12:00:04.194618100Z",
     "start_time": "2025-04-03T12:00:04.027883700Z"
    }
   },
   "outputs": [
    {
     "data": {
      "text/plain": "<Axes: >"
     },
     "execution_count": 39,
     "metadata": {},
     "output_type": "execute_result"
    },
    {
     "data": {
      "text/plain": "<Figure size 640x480 with 2 Axes>",
      "image/png": "[encoded data removed]"
     },
     "metadata": {},
     "output_type": "display_data"
    }
   ],
   "source": [
    "sns.heatmap(cm,annot=True)"
   ]
  },
  {
   "cell_type": "code",
   "execution_count": 40,
   "id": "scientific-causing",
   "metadata": {
    "ExecuteTime": {
     "end_time": "2025-04-03T12:00:10.417030400Z",
     "start_time": "2025-04-03T12:00:10.393602Z"
    }
   },
   "outputs": [
    {
     "name": "stdout",
     "output_type": "stream",
     "text": [
      "              precision    recall  f1-score   support\n",
      "\n",
      "           0       1.00      0.99      0.99       867\n",
      "           1       0.97      1.00      0.98       279\n",
      "\n",
      "    accuracy                           0.99      1146\n",
      "   macro avg       0.98      0.99      0.99      1146\n",
      "weighted avg       0.99      0.99      0.99      1146\n"
     ]
    }
   ],
   "source": [
    "print(classification_report(y_test,y_predict_test))"
   ]
  },
  {
   "cell_type": "code",
   "execution_count": null,
   "id": "ordinary-daily",
   "metadata": {},
   "outputs": [],
   "source": []
  }
 ],
 "metadata": {
  "kernelspec": {
   "display_name": "Python 3",
   "language": "python",
   "name": "python3"
  },
  "language_info": {
   "codemirror_mode": {
    "name": "ipython",
    "version": 3
   },
   "file_extension": ".py",
   "mimetype": "text/x-python",
   "name": "python",
   "nbconvert_exporter": "python",
   "pygments_lexer": "ipython3",
   "version": "3.6.4"
  }
 },
 "nbformat": 4,
 "nbformat_minor": 5
}
